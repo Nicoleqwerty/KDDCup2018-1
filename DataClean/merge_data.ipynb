{
 "cells": [
  {
   "cell_type": "code",
   "execution_count": 1,
   "metadata": {
    "collapsed": true
   },
   "outputs": [],
   "source": [
    "import seaborn as sns\n",
    "import matplotlib.pyplot as plt\n",
    "import pandas as pd\n",
    "import numpy as np\n",
    "import os\n",
    "\n",
    "weather = pd.read_csv('E:/working/DataMining/beijing_17_18_meo_cleaned.csv')\n",
    "air_quality = pd.read_csv('E:/working/DataMining/beijing_17_18_aq_cleaned.csv')"
   ]
  },
  {
   "cell_type": "code",
   "execution_count": 2,
   "metadata": {},
   "outputs": [
    {
     "name": "stdout",
     "output_type": "stream",
     "text": [
      "9\n"
     ]
    }
   ],
   "source": [
    "air_quality = air_quality.rename(columns = {'stationId': 'station_id'})\n",
    "weather['station_id'] = weather['station_id'].map(lambda x : str(x)[:-4])\n",
    "air_quality['station_id'] = air_quality['station_id'].map(lambda x : str(x)[:-3])\n",
    "weather_set = set(weather['station_id'].value_counts().to_dict().keys())\n",
    "air_quality_set = set(air_quality['station_id'].value_counts().to_dict().keys())\n",
    "print(len(weather_set & air_quality_set))"
   ]
  },
  {
   "cell_type": "code",
   "execution_count": 5,
   "metadata": {},
   "outputs": [
    {
     "name": "stdout",
     "output_type": "stream",
     "text": [
      "fangshan 8078\n"
     ]
    }
   ],
   "source": [
    "def merge_dataframe(weather, air_quality, station):\n",
    "    w_s = weather[weather['station_id'] == station]\n",
    "    aq_s = air_quality[air_quality['station_id'] == station].drop(['station_id'], axis=1)\n",
    "    station_data = pd.merge(w_s, aq_s, on='utc_time')\n",
    "    station_data.to_csv('E:/working/DataMining/' + station + '.csv', index=False)\n",
    "    print(station, len(station_data))\n",
    "    \n",
    "merge_dataframe(weather, air_quality, 'fangshan')"
   ]
  },
  {
   "cell_type": "code",
   "execution_count": 6,
   "metadata": {},
   "outputs": [
    {
     "data": {
      "text/plain": [
       "'C:\\\\Users\\\\Administrator'"
      ]
     },
     "execution_count": 6,
     "metadata": {},
     "output_type": "execute_result"
    }
   ],
   "source": [
    "os.getcwd()"
   ]
  },
  {
   "cell_type": "code",
   "execution_count": null,
   "metadata": {
    "collapsed": true
   },
   "outputs": [],
   "source": [
    "# 合并天气和空气质量数据中都存在的站点\n",
    "#  'daxing',\n",
    "#  'fangshan',\n",
    "#  'huairou',\n",
    "#  'mentougou',\n",
    "#  'miyun',\n",
    "#  'pingchang',\n",
    "#  'pinggu',\n",
    "#  'shunyi',\n",
    "#  'tongzhou'"
   ]
  }
 ],
 "metadata": {
  "kernelspec": {
   "display_name": "Python 3",
   "language": "python",
   "name": "python3"
  },
  "language_info": {
   "codemirror_mode": {
    "name": "ipython",
    "version": 3
   },
   "file_extension": ".py",
   "mimetype": "text/x-python",
   "name": "python",
   "nbconvert_exporter": "python",
   "pygments_lexer": "ipython3",
   "version": "3.6.2"
  }
 },
 "nbformat": 4,
 "nbformat_minor": 2
}
