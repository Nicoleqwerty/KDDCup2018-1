{
 "cells": [
  {
   "cell_type": "code",
   "execution_count": 1,
   "metadata": {},
   "outputs": [
    {
     "data": {
      "text/html": [
       "<div>\n",
       "<style>\n",
       "    .dataframe thead tr:only-child th {\n",
       "        text-align: right;\n",
       "    }\n",
       "\n",
       "    .dataframe thead th {\n",
       "        text-align: left;\n",
       "    }\n",
       "\n",
       "    .dataframe tbody tr th {\n",
       "        vertical-align: top;\n",
       "    }\n",
       "</style>\n",
       "<table border=\"1\" class=\"dataframe\">\n",
       "  <thead>\n",
       "    <tr style=\"text-align: right;\">\n",
       "      <th></th>\n",
       "      <th>utc_time</th>\n",
       "      <th>temperature</th>\n",
       "      <th>pressure</th>\n",
       "      <th>humidity</th>\n",
       "      <th>wind_direction</th>\n",
       "      <th>wind_speed</th>\n",
       "      <th>PM2.5</th>\n",
       "    </tr>\n",
       "  </thead>\n",
       "  <tbody>\n",
       "    <tr>\n",
       "      <th>0</th>\n",
       "      <td>2017-01-30 16:00:00</td>\n",
       "      <td>-2.6</td>\n",
       "      <td>1026.1</td>\n",
       "      <td>14</td>\n",
       "      <td>215.0</td>\n",
       "      <td>3.3</td>\n",
       "      <td>114.0</td>\n",
       "    </tr>\n",
       "    <tr>\n",
       "      <th>1</th>\n",
       "      <td>2017-01-30 17:00:00</td>\n",
       "      <td>-2.7</td>\n",
       "      <td>1025.8</td>\n",
       "      <td>15</td>\n",
       "      <td>217.0</td>\n",
       "      <td>3.5</td>\n",
       "      <td>116.0</td>\n",
       "    </tr>\n",
       "    <tr>\n",
       "      <th>2</th>\n",
       "      <td>2017-01-30 18:00:00</td>\n",
       "      <td>-2.8</td>\n",
       "      <td>1025.6</td>\n",
       "      <td>17</td>\n",
       "      <td>228.0</td>\n",
       "      <td>3.2</td>\n",
       "      <td>117.0</td>\n",
       "    </tr>\n",
       "    <tr>\n",
       "      <th>3</th>\n",
       "      <td>2017-01-30 19:00:00</td>\n",
       "      <td>-2.8</td>\n",
       "      <td>1025.0</td>\n",
       "      <td>18</td>\n",
       "      <td>228.0</td>\n",
       "      <td>1.8</td>\n",
       "      <td>118.0</td>\n",
       "    </tr>\n",
       "    <tr>\n",
       "      <th>4</th>\n",
       "      <td>2017-01-30 20:00:00</td>\n",
       "      <td>-3.1</td>\n",
       "      <td>1024.1</td>\n",
       "      <td>17</td>\n",
       "      <td>209.0</td>\n",
       "      <td>2.4</td>\n",
       "      <td>118.0</td>\n",
       "    </tr>\n",
       "  </tbody>\n",
       "</table>\n",
       "</div>"
      ],
      "text/plain": [
       "              utc_time  temperature  pressure  humidity  wind_direction  \\\n",
       "0  2017-01-30 16:00:00         -2.6    1026.1        14           215.0   \n",
       "1  2017-01-30 17:00:00         -2.7    1025.8        15           217.0   \n",
       "2  2017-01-30 18:00:00         -2.8    1025.6        17           228.0   \n",
       "3  2017-01-30 19:00:00         -2.8    1025.0        18           228.0   \n",
       "4  2017-01-30 20:00:00         -3.1    1024.1        17           209.0   \n",
       "\n",
       "   wind_speed  PM2.5  \n",
       "0         3.3  114.0  \n",
       "1         3.5  116.0  \n",
       "2         3.2  117.0  \n",
       "3         1.8  118.0  \n",
       "4         2.4  118.0  "
      ]
     },
     "execution_count": 1,
     "metadata": {},
     "output_type": "execute_result"
    }
   ],
   "source": [
    "import pandas as pd\n",
    "import matplotlib.pyplot as plt\n",
    "\n",
    "fs = pd.read_csv('E:/working/DataMining/fangshan.csv')\n",
    "fs = fs.drop(['weather', 'station_id', 'longitude', 'latitude'], axis=1)\n",
    "\n",
    "# foucus on PM2.5\n",
    "\n",
    "fs = fs.drop(['PM10', 'NO2', 'CO', 'O3', 'SO2'], axis = 1)\n",
    "fs.head()"
   ]
  },
  {
   "cell_type": "code",
   "execution_count": 2,
   "metadata": {},
   "outputs": [
    {
     "data": {
      "text/html": [
       "<div>\n",
       "<style>\n",
       "    .dataframe thead tr:only-child th {\n",
       "        text-align: right;\n",
       "    }\n",
       "\n",
       "    .dataframe thead th {\n",
       "        text-align: left;\n",
       "    }\n",
       "\n",
       "    .dataframe tbody tr th {\n",
       "        vertical-align: top;\n",
       "    }\n",
       "</style>\n",
       "<table border=\"1\" class=\"dataframe\">\n",
       "  <thead>\n",
       "    <tr style=\"text-align: right;\">\n",
       "      <th></th>\n",
       "      <th>PM2.5</th>\n",
       "      <th>PM2.5_1</th>\n",
       "      <th>PM2.5_2</th>\n",
       "      <th>PM2.5_3</th>\n",
       "      <th>temperature_1</th>\n",
       "      <th>temperature_2</th>\n",
       "      <th>temperature_3</th>\n",
       "      <th>pressure_1</th>\n",
       "      <th>pressure_2</th>\n",
       "      <th>pressure_3</th>\n",
       "      <th>humidity_1</th>\n",
       "      <th>humidity_2</th>\n",
       "      <th>humidity_3</th>\n",
       "      <th>wind_direction_1</th>\n",
       "      <th>wind_direction_2</th>\n",
       "      <th>wind_direction_3</th>\n",
       "      <th>wind_speed_1</th>\n",
       "      <th>wind_speed_2</th>\n",
       "      <th>wind_speed_3</th>\n",
       "    </tr>\n",
       "  </thead>\n",
       "  <tbody>\n",
       "    <tr>\n",
       "      <th>0</th>\n",
       "      <td>118.0</td>\n",
       "      <td>117.0</td>\n",
       "      <td>116.0</td>\n",
       "      <td>114.0</td>\n",
       "      <td>-2.8</td>\n",
       "      <td>-2.7</td>\n",
       "      <td>-2.6</td>\n",
       "      <td>1025.6</td>\n",
       "      <td>1025.8</td>\n",
       "      <td>1026.1</td>\n",
       "      <td>17.0</td>\n",
       "      <td>15.0</td>\n",
       "      <td>14.0</td>\n",
       "      <td>228.0</td>\n",
       "      <td>217.0</td>\n",
       "      <td>215.0</td>\n",
       "      <td>3.2</td>\n",
       "      <td>3.5</td>\n",
       "      <td>3.3</td>\n",
       "    </tr>\n",
       "    <tr>\n",
       "      <th>1</th>\n",
       "      <td>118.0</td>\n",
       "      <td>118.0</td>\n",
       "      <td>117.0</td>\n",
       "      <td>116.0</td>\n",
       "      <td>-2.8</td>\n",
       "      <td>-2.8</td>\n",
       "      <td>-2.7</td>\n",
       "      <td>1025.0</td>\n",
       "      <td>1025.6</td>\n",
       "      <td>1025.8</td>\n",
       "      <td>18.0</td>\n",
       "      <td>17.0</td>\n",
       "      <td>15.0</td>\n",
       "      <td>228.0</td>\n",
       "      <td>228.0</td>\n",
       "      <td>217.0</td>\n",
       "      <td>1.8</td>\n",
       "      <td>3.2</td>\n",
       "      <td>3.5</td>\n",
       "    </tr>\n",
       "    <tr>\n",
       "      <th>2</th>\n",
       "      <td>106.0</td>\n",
       "      <td>118.0</td>\n",
       "      <td>118.0</td>\n",
       "      <td>117.0</td>\n",
       "      <td>-3.1</td>\n",
       "      <td>-2.8</td>\n",
       "      <td>-2.8</td>\n",
       "      <td>1024.1</td>\n",
       "      <td>1025.0</td>\n",
       "      <td>1025.6</td>\n",
       "      <td>17.0</td>\n",
       "      <td>18.0</td>\n",
       "      <td>17.0</td>\n",
       "      <td>209.0</td>\n",
       "      <td>228.0</td>\n",
       "      <td>228.0</td>\n",
       "      <td>2.4</td>\n",
       "      <td>1.8</td>\n",
       "      <td>3.2</td>\n",
       "    </tr>\n",
       "    <tr>\n",
       "      <th>3</th>\n",
       "      <td>110.0</td>\n",
       "      <td>106.0</td>\n",
       "      <td>118.0</td>\n",
       "      <td>118.0</td>\n",
       "      <td>-3.9</td>\n",
       "      <td>-3.1</td>\n",
       "      <td>-2.8</td>\n",
       "      <td>1023.9</td>\n",
       "      <td>1024.1</td>\n",
       "      <td>1025.0</td>\n",
       "      <td>19.0</td>\n",
       "      <td>17.0</td>\n",
       "      <td>18.0</td>\n",
       "      <td>216.0</td>\n",
       "      <td>209.0</td>\n",
       "      <td>228.0</td>\n",
       "      <td>1.7</td>\n",
       "      <td>2.4</td>\n",
       "      <td>1.8</td>\n",
       "    </tr>\n",
       "    <tr>\n",
       "      <th>4</th>\n",
       "      <td>122.0</td>\n",
       "      <td>110.0</td>\n",
       "      <td>106.0</td>\n",
       "      <td>118.0</td>\n",
       "      <td>-4.7</td>\n",
       "      <td>-3.9</td>\n",
       "      <td>-3.1</td>\n",
       "      <td>1023.2</td>\n",
       "      <td>1023.9</td>\n",
       "      <td>1024.1</td>\n",
       "      <td>23.0</td>\n",
       "      <td>19.0</td>\n",
       "      <td>17.0</td>\n",
       "      <td>233.0</td>\n",
       "      <td>216.0</td>\n",
       "      <td>209.0</td>\n",
       "      <td>0.4</td>\n",
       "      <td>1.7</td>\n",
       "      <td>2.4</td>\n",
       "    </tr>\n",
       "  </tbody>\n",
       "</table>\n",
       "</div>"
      ],
      "text/plain": [
       "   PM2.5  PM2.5_1  PM2.5_2  PM2.5_3  temperature_1  temperature_2  \\\n",
       "0  118.0    117.0    116.0    114.0           -2.8           -2.7   \n",
       "1  118.0    118.0    117.0    116.0           -2.8           -2.8   \n",
       "2  106.0    118.0    118.0    117.0           -3.1           -2.8   \n",
       "3  110.0    106.0    118.0    118.0           -3.9           -3.1   \n",
       "4  122.0    110.0    106.0    118.0           -4.7           -3.9   \n",
       "\n",
       "   temperature_3  pressure_1  pressure_2  pressure_3  humidity_1  humidity_2  \\\n",
       "0           -2.6      1025.6      1025.8      1026.1        17.0        15.0   \n",
       "1           -2.7      1025.0      1025.6      1025.8        18.0        17.0   \n",
       "2           -2.8      1024.1      1025.0      1025.6        17.0        18.0   \n",
       "3           -2.8      1023.9      1024.1      1025.0        19.0        17.0   \n",
       "4           -3.1      1023.2      1023.9      1024.1        23.0        19.0   \n",
       "\n",
       "   humidity_3  wind_direction_1  wind_direction_2  wind_direction_3  \\\n",
       "0        14.0             228.0             217.0             215.0   \n",
       "1        15.0             228.0             228.0             217.0   \n",
       "2        17.0             209.0             228.0             228.0   \n",
       "3        18.0             216.0             209.0             228.0   \n",
       "4        17.0             233.0             216.0             209.0   \n",
       "\n",
       "   wind_speed_1  wind_speed_2  wind_speed_3  \n",
       "0           3.2           3.5           3.3  \n",
       "1           1.8           3.2           3.5  \n",
       "2           2.4           1.8           3.2  \n",
       "3           1.7           2.4           1.8  \n",
       "4           0.4           1.7           2.4  "
      ]
     },
     "execution_count": 2,
     "metadata": {},
     "output_type": "execute_result"
    }
   ],
   "source": [
    "def feature_vector(df, feature, N):\n",
    "    rows = df.shape[0]\n",
    "    column_n = [None] * N + [df[feature][i - N] for i in range(N, rows)]\n",
    "    column_name = \"{}_{}\".format(feature, N)\n",
    "    df[column_name] = column_n\n",
    "\n",
    "fs = fs.drop(['utc_time',], axis=1)\n",
    "\n",
    "for feature in ['PM2.5', 'temperature', 'pressure', 'humidity', 'wind_direction', 'wind_speed']:\n",
    "    for N in range(1, 4):\n",
    "        feature_vector(fs, feature, N)\n",
    "        \n",
    "fs = fs.drop(['temperature', 'pressure', 'humidity', 'wind_direction', 'wind_speed'], axis=1)\n",
    "fs = fs[3:].reset_index(drop=True)\n",
    "fs.head()"
   ]
  },
  {
   "cell_type": "code",
   "execution_count": 3,
   "metadata": {},
   "outputs": [
    {
     "data": {
      "text/html": [
       "<div>\n",
       "<style>\n",
       "    .dataframe thead tr:only-child th {\n",
       "        text-align: right;\n",
       "    }\n",
       "\n",
       "    .dataframe thead th {\n",
       "        text-align: left;\n",
       "    }\n",
       "\n",
       "    .dataframe tbody tr th {\n",
       "        vertical-align: top;\n",
       "    }\n",
       "</style>\n",
       "<table border=\"1\" class=\"dataframe\">\n",
       "  <thead>\n",
       "    <tr style=\"text-align: right;\">\n",
       "      <th></th>\n",
       "      <th>PM2.5</th>\n",
       "    </tr>\n",
       "  </thead>\n",
       "  <tbody>\n",
       "    <tr>\n",
       "      <th>wind_speed_2</th>\n",
       "      <td>-0.236955</td>\n",
       "    </tr>\n",
       "    <tr>\n",
       "      <th>wind_speed_3</th>\n",
       "      <td>-0.235846</td>\n",
       "    </tr>\n",
       "    <tr>\n",
       "      <th>wind_speed_1</th>\n",
       "      <td>-0.228198</td>\n",
       "    </tr>\n",
       "    <tr>\n",
       "      <th>temperature_1</th>\n",
       "      <td>-0.066844</td>\n",
       "    </tr>\n",
       "    <tr>\n",
       "      <th>temperature_2</th>\n",
       "      <td>-0.064278</td>\n",
       "    </tr>\n",
       "    <tr>\n",
       "      <th>temperature_3</th>\n",
       "      <td>-0.060171</td>\n",
       "    </tr>\n",
       "    <tr>\n",
       "      <th>wind_direction_3</th>\n",
       "      <td>-0.005863</td>\n",
       "    </tr>\n",
       "    <tr>\n",
       "      <th>wind_direction_1</th>\n",
       "      <td>-0.001854</td>\n",
       "    </tr>\n",
       "    <tr>\n",
       "      <th>wind_direction_2</th>\n",
       "      <td>-0.001517</td>\n",
       "    </tr>\n",
       "    <tr>\n",
       "      <th>pressure_1</th>\n",
       "      <td>0.001192</td>\n",
       "    </tr>\n",
       "    <tr>\n",
       "      <th>pressure_2</th>\n",
       "      <td>0.004091</td>\n",
       "    </tr>\n",
       "    <tr>\n",
       "      <th>pressure_3</th>\n",
       "      <td>0.008285</td>\n",
       "    </tr>\n",
       "    <tr>\n",
       "      <th>humidity_3</th>\n",
       "      <td>0.178055</td>\n",
       "    </tr>\n",
       "    <tr>\n",
       "      <th>humidity_2</th>\n",
       "      <td>0.193281</td>\n",
       "    </tr>\n",
       "    <tr>\n",
       "      <th>humidity_1</th>\n",
       "      <td>0.204916</td>\n",
       "    </tr>\n",
       "    <tr>\n",
       "      <th>PM2.5_3</th>\n",
       "      <td>0.841337</td>\n",
       "    </tr>\n",
       "    <tr>\n",
       "      <th>PM2.5_2</th>\n",
       "      <td>0.887754</td>\n",
       "    </tr>\n",
       "    <tr>\n",
       "      <th>PM2.5_1</th>\n",
       "      <td>0.933011</td>\n",
       "    </tr>\n",
       "    <tr>\n",
       "      <th>PM2.5</th>\n",
       "      <td>1.000000</td>\n",
       "    </tr>\n",
       "  </tbody>\n",
       "</table>\n",
       "</div>"
      ],
      "text/plain": [
       "                     PM2.5\n",
       "wind_speed_2     -0.236955\n",
       "wind_speed_3     -0.235846\n",
       "wind_speed_1     -0.228198\n",
       "temperature_1    -0.066844\n",
       "temperature_2    -0.064278\n",
       "temperature_3    -0.060171\n",
       "wind_direction_3 -0.005863\n",
       "wind_direction_1 -0.001854\n",
       "wind_direction_2 -0.001517\n",
       "pressure_1        0.001192\n",
       "pressure_2        0.004091\n",
       "pressure_3        0.008285\n",
       "humidity_3        0.178055\n",
       "humidity_2        0.193281\n",
       "humidity_1        0.204916\n",
       "PM2.5_3           0.841337\n",
       "PM2.5_2           0.887754\n",
       "PM2.5_1           0.933011\n",
       "PM2.5             1.000000"
      ]
     },
     "execution_count": 3,
     "metadata": {},
     "output_type": "execute_result"
    }
   ],
   "source": [
    "fs.corr()[['PM2.5']].sort_values('PM2.5')"
   ]
  },
  {
   "cell_type": "code",
   "execution_count": 4,
   "metadata": {},
   "outputs": [
    {
     "name": "stdout",
     "output_type": "stream",
     "text": [
      "(6056, 18)\n",
      "(6056, 1)\n",
      "(2019, 18)\n",
      "(2019, 1)\n"
     ]
    },
    {
     "name": "stderr",
     "output_type": "stream",
     "text": [
      "D:\\anaconda\\lib\\site-packages\\sklearn\\cross_validation.py:41: DeprecationWarning: This module was deprecated in version 0.18 in favor of the model_selection module into which all the refactored classes and functions are moved. Also note that the interface of the new CV iterators are different from that of this module. This module will be removed in 0.20.\n",
      "  \"This module will be removed in 0.20.\", DeprecationWarning)\n"
     ]
    }
   ],
   "source": [
    "from sklearn import linear_model\n",
    "from sklearn.cross_validation import train_test_split\n",
    "\n",
    "features = ['PM2.5_1', 'PM2.5_2', 'PM2.5_3',\n",
    "              'temperature_1', 'temperature_2', 'temperature_3',\n",
    "              'pressure_1', 'pressure_2', 'pressure_3',\n",
    "              'humidity_1','humidity_2', 'humidity_3',\n",
    "              'wind_direction_1', 'wind_direction_2', 'wind_direction_3',\n",
    "              'wind_speed_1', 'wind_speed_2', 'wind_speed_3']\n",
    "\n",
    "X = fs[features]\n",
    "y = fs[['PM2.5']]\n",
    "\n",
    "X_train, X_test, y_train, y_test = train_test_split(X, y, random_state=1)\n",
    "print(X_train.shape)\n",
    "print(y_train.shape)\n",
    "print(X_test.shape)\n",
    "print(y_test.shape)"
   ]
  },
  {
   "cell_type": "code",
   "execution_count": 5,
   "metadata": {},
   "outputs": [
    {
     "name": "stdout",
     "output_type": "stream",
     "text": [
      "[-90.42301382]\n",
      "[[ 0.75731722  0.16890637  0.01785279  0.6810454  -0.6495115   0.06329199\n",
      "  -0.0882468  -0.08511385  0.27112631  0.24780554 -0.19803759 -0.09960994\n",
      "  -0.00470224  0.00294165 -0.0021895  -1.5207328  -0.47985265  0.50055359]]\n"
     ]
    }
   ],
   "source": [
    "from sklearn.linear_model import LinearRegression\n",
    "LinearModel = LinearRegression()\n",
    "LinearModel.fit(X_train, y_train)\n",
    "print(LinearModel.intercept_)\n",
    "print(LinearModel.coef_)\n"
   ]
  },
  {
   "cell_type": "code",
   "execution_count": 6,
   "metadata": {},
   "outputs": [
    {
     "name": "stdout",
     "output_type": "stream",
     "text": [
      "199.993655561\n"
     ]
    }
   ],
   "source": [
    "y_prediction = LinearModel.predict(X_test)\n",
    "from sklearn import metrics\n",
    "print(metrics.mean_squared_error(y_test, y_prediction))"
   ]
  },
  {
   "cell_type": "code",
   "execution_count": 7,
   "metadata": {},
   "outputs": [
    {
     "name": "stdout",
     "output_type": "stream",
     "text": [
      "418.043156979\n"
     ]
    }
   ],
   "source": [
    "features = ['PM2.5_1', 'PM2.5_2', 'PM2.5_3',\n",
    "              'temperature_1', 'temperature_2', 'temperature_3',\n",
    "              'pressure_1', 'pressure_2', 'pressure_3',\n",
    "              'humidity_1','humidity_2', 'humidity_3',\n",
    "              'wind_speed_1', 'wind_speed_2', 'wind_speed_3']\n",
    "\n",
    "X = fs[features]\n",
    "\n",
    "from sklearn.model_selection import cross_val_predict\n",
    "predicted = cross_val_predict(LinearModel, X, y, cv=10)\n",
    "print(metrics.mean_squared_error(y, predicted))"
   ]
  },
  {
   "cell_type": "code",
   "execution_count": 8,
   "metadata": {},
   "outputs": [
    {
     "name": "stdout",
     "output_type": "stream",
     "text": [
      "427.305812557\n"
     ]
    }
   ],
   "source": [
    "features = ['PM2.5_1', 'PM2.5_2', 'PM2.5_3']\n",
    "\n",
    "X = fs[features]\n",
    "predicted = cross_val_predict(LinearModel, X, y, cv=10)\n",
    "print(metrics.mean_squared_error(y, predicted))"
   ]
  },
  {
   "cell_type": "code",
   "execution_count": 9,
   "metadata": {},
   "outputs": [
    {
     "name": "stdout",
     "output_type": "stream",
     "text": [
      "418.325257364\n"
     ]
    }
   ],
   "source": [
    "features = ['PM2.5_1', 'PM2.5_2', 'PM2.5_3',\n",
    "              'temperature_1', 'temperature_2', 'temperature_3',\n",
    "              'pressure_1', 'pressure_2', 'pressure_3',\n",
    "              'humidity_1','humidity_2', 'humidity_3',\n",
    "              'wind_direction_1', 'wind_direction_2', 'wind_direction_3',\n",
    "              'wind_speed_1', 'wind_speed_2', 'wind_speed_3']\n",
    "X = fs[features]\n",
    "\n",
    "from sklearn.model_selection import cross_val_predict\n",
    "predicted = cross_val_predict(LinearModel, X, y, cv=10)\n",
    "print(metrics.mean_squared_error(y, predicted))"
   ]
  },
  {
   "cell_type": "code",
   "execution_count": 10,
   "metadata": {},
   "outputs": [
    {
     "name": "stdout",
     "output_type": "stream",
     "text": [
      "418.244306554\n"
     ]
    }
   ],
   "source": [
    "features = ['PM2.5_1', 'PM2.5_2', 'PM2.5_3',\n",
    "              'humidity_1','humidity_2', 'humidity_3',\n",
    "              'wind_speed_1', 'wind_speed_2', 'wind_speed_3']\n",
    "\n",
    "X = fs[features]\n",
    "\n",
    "from sklearn.model_selection import cross_val_predict\n",
    "predicted = cross_val_predict(LinearModel, X, y, cv=10)\n",
    "print(metrics.mean_squared_error(y, predicted))"
   ]
  },
  {
   "cell_type": "code",
   "execution_count": 11,
   "metadata": {},
   "outputs": [
    {
     "data": {
      "image/png": "[encoded data removed]",
      "text/plain": [
       "<matplotlib.figure.Figure at 0x9a0fcc0>"
      ]
     },
     "metadata": {},
     "output_type": "display_data"
    }
   ],
   "source": [
    "import matplotlib.pyplot as plt\n",
    "fig, ax = plt.subplots()\n",
    "ax.scatter(y, predicted)\n",
    "ax.plot([y.min(), y.max()], [y.min(), y.max()], 'k--', lw=4)\n",
    "ax.set_xlabel('Measured')\n",
    "ax.set_ylabel('Predicted')\n",
    "plt.show()\n"
   ]
  },
  {
   "cell_type": "code",
   "execution_count": null,
   "metadata": {
    "collapsed": true
   },
   "outputs": [],
   "source": []
  }
 ],
 "metadata": {
  "kernelspec": {
   "display_name": "Python 3",
   "language": "python",
   "name": "python3"
  },
  "language_info": {
   "codemirror_mode": {
    "name": "ipython",
    "version": 3
   },
   "file_extension": ".py",
   "mimetype": "text/x-python",
   "name": "python",
   "nbconvert_exporter": "python",
   "pygments_lexer": "ipython3",
   "version": "3.6.2"
  }
 },
 "nbformat": 4,
 "nbformat_minor": 2
}
