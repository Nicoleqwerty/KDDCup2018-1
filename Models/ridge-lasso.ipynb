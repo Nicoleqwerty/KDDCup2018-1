{
 "cells": [
  {
   "cell_type": "code",
   "execution_count": 1,
   "metadata": {},
   "outputs": [
    {
     "data": {
      "text/html": [
       "<div>\n",
       "<style>\n",
       "    .dataframe thead tr:only-child th {\n",
       "        text-align: right;\n",
       "    }\n",
       "\n",
       "    .dataframe thead th {\n",
       "        text-align: left;\n",
       "    }\n",
       "\n",
       "    .dataframe tbody tr th {\n",
       "        vertical-align: top;\n",
       "    }\n",
       "</style>\n",
       "<table border=\"1\" class=\"dataframe\">\n",
       "  <thead>\n",
       "    <tr style=\"text-align: right;\">\n",
       "      <th></th>\n",
       "      <th>PM2.5</th>\n",
       "      <th>PM2.5_1</th>\n",
       "      <th>PM2.5_2</th>\n",
       "      <th>PM2.5_3</th>\n",
       "      <th>temperature_1</th>\n",
       "      <th>temperature_2</th>\n",
       "      <th>temperature_3</th>\n",
       "      <th>pressure_1</th>\n",
       "      <th>pressure_2</th>\n",
       "      <th>pressure_3</th>\n",
       "      <th>humidity_1</th>\n",
       "      <th>humidity_2</th>\n",
       "      <th>humidity_3</th>\n",
       "      <th>wind_direction_1</th>\n",
       "      <th>wind_direction_2</th>\n",
       "      <th>wind_direction_3</th>\n",
       "      <th>wind_speed_1</th>\n",
       "      <th>wind_speed_2</th>\n",
       "      <th>wind_speed_3</th>\n",
       "    </tr>\n",
       "  </thead>\n",
       "  <tbody>\n",
       "    <tr>\n",
       "      <th>0</th>\n",
       "      <td>118.0</td>\n",
       "      <td>117.0</td>\n",
       "      <td>116.0</td>\n",
       "      <td>114.0</td>\n",
       "      <td>-2.8</td>\n",
       "      <td>-2.7</td>\n",
       "      <td>-2.6</td>\n",
       "      <td>1025.6</td>\n",
       "      <td>1025.8</td>\n",
       "      <td>1026.1</td>\n",
       "      <td>17.0</td>\n",
       "      <td>15.0</td>\n",
       "      <td>14.0</td>\n",
       "      <td>228.0</td>\n",
       "      <td>217.0</td>\n",
       "      <td>215.0</td>\n",
       "      <td>3.2</td>\n",
       "      <td>3.5</td>\n",
       "      <td>3.3</td>\n",
       "    </tr>\n",
       "    <tr>\n",
       "      <th>1</th>\n",
       "      <td>118.0</td>\n",
       "      <td>118.0</td>\n",
       "      <td>117.0</td>\n",
       "      <td>116.0</td>\n",
       "      <td>-2.8</td>\n",
       "      <td>-2.8</td>\n",
       "      <td>-2.7</td>\n",
       "      <td>1025.0</td>\n",
       "      <td>1025.6</td>\n",
       "      <td>1025.8</td>\n",
       "      <td>18.0</td>\n",
       "      <td>17.0</td>\n",
       "      <td>15.0</td>\n",
       "      <td>228.0</td>\n",
       "      <td>228.0</td>\n",
       "      <td>217.0</td>\n",
       "      <td>1.8</td>\n",
       "      <td>3.2</td>\n",
       "      <td>3.5</td>\n",
       "    </tr>\n",
       "    <tr>\n",
       "      <th>2</th>\n",
       "      <td>106.0</td>\n",
       "      <td>118.0</td>\n",
       "      <td>118.0</td>\n",
       "      <td>117.0</td>\n",
       "      <td>-3.1</td>\n",
       "      <td>-2.8</td>\n",
       "      <td>-2.8</td>\n",
       "      <td>1024.1</td>\n",
       "      <td>1025.0</td>\n",
       "      <td>1025.6</td>\n",
       "      <td>17.0</td>\n",
       "      <td>18.0</td>\n",
       "      <td>17.0</td>\n",
       "      <td>209.0</td>\n",
       "      <td>228.0</td>\n",
       "      <td>228.0</td>\n",
       "      <td>2.4</td>\n",
       "      <td>1.8</td>\n",
       "      <td>3.2</td>\n",
       "    </tr>\n",
       "    <tr>\n",
       "      <th>3</th>\n",
       "      <td>110.0</td>\n",
       "      <td>106.0</td>\n",
       "      <td>118.0</td>\n",
       "      <td>118.0</td>\n",
       "      <td>-3.9</td>\n",
       "      <td>-3.1</td>\n",
       "      <td>-2.8</td>\n",
       "      <td>1023.9</td>\n",
       "      <td>1024.1</td>\n",
       "      <td>1025.0</td>\n",
       "      <td>19.0</td>\n",
       "      <td>17.0</td>\n",
       "      <td>18.0</td>\n",
       "      <td>216.0</td>\n",
       "      <td>209.0</td>\n",
       "      <td>228.0</td>\n",
       "      <td>1.7</td>\n",
       "      <td>2.4</td>\n",
       "      <td>1.8</td>\n",
       "    </tr>\n",
       "    <tr>\n",
       "      <th>4</th>\n",
       "      <td>122.0</td>\n",
       "      <td>110.0</td>\n",
       "      <td>106.0</td>\n",
       "      <td>118.0</td>\n",
       "      <td>-4.7</td>\n",
       "      <td>-3.9</td>\n",
       "      <td>-3.1</td>\n",
       "      <td>1023.2</td>\n",
       "      <td>1023.9</td>\n",
       "      <td>1024.1</td>\n",
       "      <td>23.0</td>\n",
       "      <td>19.0</td>\n",
       "      <td>17.0</td>\n",
       "      <td>233.0</td>\n",
       "      <td>216.0</td>\n",
       "      <td>209.0</td>\n",
       "      <td>0.4</td>\n",
       "      <td>1.7</td>\n",
       "      <td>2.4</td>\n",
       "    </tr>\n",
       "  </tbody>\n",
       "</table>\n",
       "</div>"
      ],
      "text/plain": [
       "   PM2.5  PM2.5_1  PM2.5_2  PM2.5_3  temperature_1  temperature_2  \\\n",
       "0  118.0    117.0    116.0    114.0           -2.8           -2.7   \n",
       "1  118.0    118.0    117.0    116.0           -2.8           -2.8   \n",
       "2  106.0    118.0    118.0    117.0           -3.1           -2.8   \n",
       "3  110.0    106.0    118.0    118.0           -3.9           -3.1   \n",
       "4  122.0    110.0    106.0    118.0           -4.7           -3.9   \n",
       "\n",
       "   temperature_3  pressure_1  pressure_2  pressure_3  humidity_1  humidity_2  \\\n",
       "0           -2.6      1025.6      1025.8      1026.1        17.0        15.0   \n",
       "1           -2.7      1025.0      1025.6      1025.8        18.0        17.0   \n",
       "2           -2.8      1024.1      1025.0      1025.6        17.0        18.0   \n",
       "3           -2.8      1023.9      1024.1      1025.0        19.0        17.0   \n",
       "4           -3.1      1023.2      1023.9      1024.1        23.0        19.0   \n",
       "\n",
       "   humidity_3  wind_direction_1  wind_direction_2  wind_direction_3  \\\n",
       "0        14.0             228.0             217.0             215.0   \n",
       "1        15.0             228.0             228.0             217.0   \n",
       "2        17.0             209.0             228.0             228.0   \n",
       "3        18.0             216.0             209.0             228.0   \n",
       "4        17.0             233.0             216.0             209.0   \n",
       "\n",
       "   wind_speed_1  wind_speed_2  wind_speed_3  \n",
       "0           3.2           3.5           3.3  \n",
       "1           1.8           3.2           3.5  \n",
       "2           2.4           1.8           3.2  \n",
       "3           1.7           2.4           1.8  \n",
       "4           0.4           1.7           2.4  "
      ]
     },
     "execution_count": 1,
     "metadata": {},
     "output_type": "execute_result"
    }
   ],
   "source": [
    "import numpy as np\n",
    "import pandas as pd\n",
    "from sklearn import linear_model as lm\n",
    "\n",
    "# foucus on PM2.5\n",
    "\n",
    "fs = pd.read_csv('E:/working/DataMining/fangshan.csv')\n",
    "fs = fs.drop(['weather', 'station_id', 'longitude', 'latitude', 'PM10', 'NO2', 'CO', 'O3', 'SO2'], axis=1)\n",
    "\n",
    "def feature_vector(df, feature, N):\n",
    "    rows = df.shape[0]\n",
    "    column_n = [None] * N + [df[feature][i - N] for i in range(N, rows)]\n",
    "    column_name = \"{}_{}\".format(feature, N)\n",
    "    df[column_name] = column_n\n",
    "\n",
    "fs = fs.drop(['utc_time',], axis=1)\n",
    "\n",
    "for feature in ['PM2.5', 'temperature', 'pressure', 'humidity', 'wind_direction', 'wind_speed']:\n",
    "    for N in range(1, 4):\n",
    "        feature_vector(fs, feature, N)\n",
    "        \n",
    "fs = fs.drop(['temperature', 'pressure', 'humidity', 'wind_direction', 'wind_speed'], axis=1)\n",
    "fs = fs[3:].reset_index(drop=True)\n",
    "\n",
    "fs.head()"
   ]
  },
  {
   "cell_type": "code",
   "execution_count": 2,
   "metadata": {},
   "outputs": [
    {
     "name": "stderr",
     "output_type": "stream",
     "text": [
      "D:\\anaconda\\lib\\site-packages\\sklearn\\cross_validation.py:41: DeprecationWarning: This module was deprecated in version 0.18 in favor of the model_selection module into which all the refactored classes and functions are moved. Also note that the interface of the new CV iterators are different from that of this module. This module will be removed in 0.20.\n",
      "  \"This module will be removed in 0.20.\", DeprecationWarning)\n"
     ]
    },
    {
     "name": "stdout",
     "output_type": "stream",
     "text": [
      "0.120091932882\n",
      "PM2.5    0.124156\n",
      "dtype: float64\n"
     ]
    }
   ],
   "source": [
    "def score(estimator, X, y):\n",
    "    y_prediction = estimator.predict(X)\n",
    "    return np.sum(np.abs(y_prediction - y) / (np.abs(y_prediction) + np.abs(y))) / y.shape[0] \n",
    "\n",
    "from sklearn.cross_validation import train_test_split\n",
    "from sklearn.model_selection import GridSearchCV\n",
    "\n",
    "features = ['PM2.5_1', 'PM2.5_2', 'PM2.5_3',\n",
    "              'temperature_1', 'temperature_2', 'temperature_3',\n",
    "              'pressure_1', 'pressure_2', 'pressure_3',\n",
    "              'humidity_1','humidity_2', 'humidity_3',\n",
    "              'wind_direction_1', 'wind_direction_2', 'wind_direction_3',\n",
    "              'wind_speed_1', 'wind_speed_2', 'wind_speed_3']\n",
    "\n",
    "X = fs[features]\n",
    "y = fs[['PM2.5']]\n",
    "\n",
    "ridge_param={'alpha': [0.4, 0.5, 0.6, 0.7]}\n",
    "grid = GridSearchCV(estimator = lm.Ridge(), param_grid = ridge_param, scoring = score, cv=5)\n",
    "X_train, X_test, y_train, y_test = train_test_split(X, y, test_size=0.1, random_state=0)\n",
    "grid.fit(X_train, y_train)\n",
    "\n",
    "print(grid.best_score_)\n",
    "print(score(grid, X_test, y_test))"
   ]
  },
  {
   "cell_type": "code",
   "execution_count": 3,
   "metadata": {},
   "outputs": [
    {
     "name": "stdout",
     "output_type": "stream",
     "text": [
      "0.113583548228\n",
      "PM2.5    0.121198\n",
      "dtype: float64\n"
     ]
    }
   ],
   "source": [
    "features = ['PM2.5_1', 'PM2.5_2', 'PM2.5_3']\n",
    "X = fs[features]\n",
    "y = fs[['PM2.5']]\n",
    "grid = GridSearchCV(estimator = lm.Ridge(), param_grid = ridge_param, scoring = score, cv=5)\n",
    "X_train, X_test, y_train, y_test = train_test_split(X, y, test_size=0.1, random_state=0)\n",
    "grid.fit(X_train, y_train)\n",
    "\n",
    "print(grid.best_score_)\n",
    "print(score(grid, X_test, y_test))"
   ]
  },
  {
   "cell_type": "code",
   "execution_count": 4,
   "metadata": {},
   "outputs": [
    {
     "name": "stdout",
     "output_type": "stream",
     "text": [
      "0.119455680667\n",
      "PM2.5    0.122925\n",
      "dtype: float64\n"
     ]
    }
   ],
   "source": [
    "features = ['PM2.5_1', 'PM2.5_2', 'PM2.5_3',\n",
    "              'humidity_1','humidity_2', 'humidity_3',\n",
    "              'wind_speed_1', 'wind_speed_2', 'wind_speed_3']\n",
    "X = fs[features]\n",
    "y = fs[['PM2.5']]\n",
    "grid = GridSearchCV(estimator = lm.Ridge(), param_grid = ridge_param, scoring = score, cv=5)\n",
    "X_train, X_test, y_train, y_test = train_test_split(X, y, test_size=0.1, random_state=0)\n",
    "grid.fit(X_train, y_train)\n",
    "\n",
    "print(grid.best_score_)\n",
    "print(score(grid, X_test, y_test))"
   ]
  },
  {
   "cell_type": "code",
   "execution_count": 5,
   "metadata": {},
   "outputs": [
    {
     "data": {
      "image/png": "[encoded data removed]",
      "text/plain": [
       "<matplotlib.figure.Figure at 0x5330da0>"
      ]
     },
     "metadata": {},
     "output_type": "display_data"
    }
   ],
   "source": [
    "import matplotlib.pyplot as plt\n",
    "from sklearn.model_selection import cross_val_predict\n",
    "\n",
    "predicted = cross_val_predict(grid, X, y, cv=10)\n",
    "\n",
    "fig, ax = plt.subplots()\n",
    "ax.scatter(y, predicted)\n",
    "ax.plot([y.min(), y.max()], [y.min(), y.max()], 'k--', lw=4)\n",
    "ax.set_xlabel('Measured')\n",
    "ax.set_ylabel('Predicted')\n",
    "plt.show()"
   ]
  },
  {
   "cell_type": "code",
   "execution_count": 6,
   "metadata": {},
   "outputs": [
    {
     "name": "stdout",
     "output_type": "stream",
     "text": [
      "0.113582160488\n",
      "0.121199688542\n"
     ]
    }
   ],
   "source": [
    "features = ['PM2.5_1', 'PM2.5_2', 'PM2.5_3']\n",
    "y = np.array(fs['PM2.5'])\n",
    "X = np.array(fs[features])\n",
    "X_train, X_test, y_train, y_test = train_test_split(X, y, test_size=0.1, random_state=0)\n",
    "lasso_param={'alpha':[0.1, 0.2, 0.3, 0.4]}\n",
    "grid = GridSearchCV( estimator = lm.Lasso(), param_grid = lasso_param, scoring = score, cv=5)\n",
    "grid.fit(X_train, y_train)\n",
    "\n",
    "print(grid.best_score_)\n",
    "print(score(grid, X_test, y_test))\n"
   ]
  },
  {
   "cell_type": "code",
   "execution_count": 7,
   "metadata": {},
   "outputs": [
    {
     "name": "stdout",
     "output_type": "stream",
     "text": [
      "0.118534740152\n",
      "0.122379016924\n"
     ]
    }
   ],
   "source": [
    "features = ['PM2.5_1', 'PM2.5_2', 'PM2.5_3',\n",
    "              'humidity_1','humidity_2', 'humidity_3',\n",
    "              'wind_speed_1', 'wind_speed_2', 'wind_speed_3']\n",
    "X = np.array(fs[features])\n",
    "X_train, X_test, y_train, y_test = train_test_split(X, y, test_size=0.1, random_state=0)\n",
    "grid.fit(X_train, y_train)\n",
    "\n",
    "print(grid.best_score_)\n",
    "print(score(grid, X_test, y_test))"
   ]
  },
  {
   "cell_type": "code",
   "execution_count": 8,
   "metadata": {},
   "outputs": [
    {
     "name": "stdout",
     "output_type": "stream",
     "text": [
      "0.119182923522\n",
      "0.123447018479\n"
     ]
    }
   ],
   "source": [
    "features = ['PM2.5_1', 'PM2.5_2', 'PM2.5_3',\n",
    "              'temperature_1', 'temperature_2', 'temperature_3',\n",
    "              'pressure_1', 'pressure_2', 'pressure_3',\n",
    "              'humidity_1','humidity_2', 'humidity_3',\n",
    "              'wind_direction_1', 'wind_direction_2', 'wind_direction_3',\n",
    "              'wind_speed_1', 'wind_speed_2', 'wind_speed_3']\n",
    "X = np.array(fs[features])\n",
    "X_train, X_test, y_train, y_test = train_test_split(X, y, test_size=0.1, random_state=0)\n",
    "grid.fit(X_train, y_train)\n",
    "\n",
    "print(grid.best_score_)\n",
    "print(score(grid, X_test, y_test))"
   ]
  },
  {
   "cell_type": "code",
   "execution_count": 9,
   "metadata": {},
   "outputs": [
    {
     "data": {
      "image/png": "[encoded data removed]",
      "text/plain": [
       "<matplotlib.figure.Figure at 0xca7d1d0>"
      ]
     },
     "metadata": {},
     "output_type": "display_data"
    }
   ],
   "source": [
    "predicted = cross_val_predict(grid, X, y, cv=10)\n",
    "\n",
    "fig, ax = plt.subplots()\n",
    "ax.scatter(y, predicted)\n",
    "ax.plot([y.min(), y.max()], [y.min(), y.max()], 'k--', lw=4)\n",
    "ax.set_xlabel('Measured')\n",
    "ax.set_ylabel('Predicted')\n",
    "plt.show()"
   ]
  },
  {
   "cell_type": "code",
   "execution_count": null,
   "metadata": {
    "collapsed": true
   },
   "outputs": [],
   "source": []
  }
 ],
 "metadata": {
  "kernelspec": {
   "display_name": "Python 3",
   "language": "python",
   "name": "python3"
  },
  "language_info": {
   "codemirror_mode": {
    "name": "ipython",
    "version": 3
   },
   "file_extension": ".py",
   "mimetype": "text/x-python",
   "name": "python",
   "nbconvert_exporter": "python",
   "pygments_lexer": "ipython3",
   "version": "3.6.2"
  }
 },
 "nbformat": 4,
 "nbformat_minor": 2
}
